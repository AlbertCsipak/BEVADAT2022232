{
 "cells": [
  {
   "cell_type": "code",
   "execution_count": 29,
   "metadata": {},
   "outputs": [],
   "source": [
    "\n",
    "import numpy as np"
   ]
  },
  {
   "cell_type": "code",
   "execution_count": 30,
   "metadata": {},
   "outputs": [
    {
     "name": "stdout",
     "output_type": "stream",
     "text": [
      "[[0. 0.]\n",
      " [0. 0.]]\n",
      "[]\n"
     ]
    }
   ],
   "source": [
    "# CSAK OTT LEHET HASZNÁLNI FOR LOOP-OT AHOL A FELADAT KÜLÖN KÉRI!\n",
    "#Készíts egy függvényt ami létre hoz egy nullákkal teli numpy array-t.\n",
    "#Paraméterei: mérete (tupel-ként), default mérete pedig legyen egy (2,2)\n",
    "#Be: (2,2)\n",
    "#Ki: [[0,0],[0,0]]\n",
    "#create_array()\n",
    "\n",
    "def create_array(merete = (2,2)):\n",
    "    return np.zeros(merete)\n",
    "\n",
    "print(create_array())\n",
    "print(create_array((0,0)))"
   ]
  },
  {
   "cell_type": "code",
   "execution_count": 31,
   "metadata": {},
   "outputs": [
    {
     "name": "stdout",
     "output_type": "stream",
     "text": [
      "[[1 2]\n",
      " [3 1]]\n",
      "[]\n"
     ]
    }
   ],
   "source": [
    "#Készíts egy függvényt ami a paraméterként kapott array-t főátlót feltölti egyesekkel\n",
    "#Be: [[1,2],\n",
    "#     [3,4]]\n",
    "#Ki: [[1,2],\n",
    "#     [3,1]]\n",
    "#set_one()\n",
    "\n",
    "def set_one(array):\n",
    "    np.fill_diagonal(array, 1)\n",
    "    return array\n",
    "\n",
    "print(set_one(np.array([[1,2],[3,4]])))\n",
    "print(set_one(np.array([[]])))"
   ]
  },
  {
   "cell_type": "code",
   "execution_count": 32,
   "metadata": {},
   "outputs": [
    {
     "name": "stdout",
     "output_type": "stream",
     "text": [
      "[[1 3]\n",
      " [2 4]]\n",
      "[]\n"
     ]
    }
   ],
   "source": [
    "# Transzponáld a paraméterül kapott mártix-ot:\n",
    "# Be: [[1, 2], [3, 4]]\n",
    "# Ki: [[1, 2], [3, 4]]\n",
    "# do_transpose()\n",
    "def do_transpose(array):\n",
    "    return np.transpose(array)\n",
    "\n",
    "print(do_transpose([[1, 2], [3, 4]]))\n",
    "print(do_transpose([[]]))"
   ]
  },
  {
   "cell_type": "code",
   "execution_count": 33,
   "metadata": {},
   "outputs": [
    {
     "name": "stdout",
     "output_type": "stream",
     "text": [
      "[0.12 0.17]\n",
      "[]\n"
     ]
    }
   ],
   "source": [
    "# Készíts egy olyan függvényt ami az array-ben lévő értékeket N tizenedjegyik kerekíti, alapértelmezetten \n",
    "# Be: [0.1223, 0.1675], n = 2\n",
    "# Ki: [0.12, 0.17]\n",
    "# round_array()\n",
    "\n",
    "def round_array(array, n=2):\n",
    "    return np.round(array, n)\n",
    "\n",
    "print(round_array([0.1223, 0.1675], 2))\n",
    "print(round_array([],2))"
   ]
  },
  {
   "cell_type": "code",
   "execution_count": 34,
   "metadata": {},
   "outputs": [
    {
     "name": "stdout",
     "output_type": "stream",
     "text": [
      "[[ True False False]\n",
      " [ True  True  True]\n",
      " [False False False]]\n"
     ]
    }
   ],
   "source": [
    "# Készíts egy olyan függvényt, ami a bementként  0 és 1 ből álló tömben a 0 - False-ra az 1 True-ra cserélni\n",
    "# Be: [[1, 0, 0], [1, 1, 1],[0, 0, 0]]\n",
    "# Ki: [[ True False False], [ True  True  True], [False False False]]\n",
    "# bool_array()\n",
    "\n",
    "def bool_array(array):\n",
    "    return np.bitwise_not(np.logical_not(array))\n",
    "\n",
    "print(bool_array(np.array([[1, 0, 0], [1, 1, 1],[0, 0, 0]])))"
   ]
  },
  {
   "cell_type": "code",
   "execution_count": 35,
   "metadata": {},
   "outputs": [
    {
     "name": "stdout",
     "output_type": "stream",
     "text": [
      "[[False  True  True]\n",
      " [False False False]\n",
      " [ True  True  True]]\n"
     ]
    }
   ],
   "source": [
    "# Készíts egy olyan függvényt, ami a bementként  0 és 1 ből álló tömben a 1 - False-ra az 0 True-ra cserélni\n",
    "# Be: [[1, 0, 0], [1, 1, 1],[0, 0, 0]]\n",
    "# Ki: [[ True False False], [ True  True  True], [False False False]]\n",
    "# invert_bool_array()\n",
    "\n",
    "def invert_bool_array(array):\n",
    "    return np.logical_not(array)\n",
    "\n",
    "print(invert_bool_array(np.array([[1, 0, 0], [1, 1, 1],[0, 0, 0]])))"
   ]
  },
  {
   "cell_type": "code",
   "execution_count": 36,
   "metadata": {},
   "outputs": [
    {
     "name": "stdout",
     "output_type": "stream",
     "text": [
      "[1 2 3 4]\n"
     ]
    }
   ],
   "source": [
    "# Készíts egy olyan függvényt ami a paraméterként kapott array-t kilapítja\n",
    "# Be: [[1,2], [3,4]]\n",
    "# Ki: [1,2,3,4]\n",
    "# flatten()\n",
    "\n",
    "def flatten(array):\n",
    "    return array.flatten()\n",
    "\n",
    "print(flatten(np.array([[1,2], [3,4]])))"
   ]
  }
 ],
 "metadata": {
  "kernelspec": {
   "display_name": "Python 3",
   "language": "python",
   "name": "python3"
  },
  "language_info": {
   "codemirror_mode": {
    "name": "ipython",
    "version": 3
   },
   "file_extension": ".py",
   "mimetype": "text/x-python",
   "name": "python",
   "nbconvert_exporter": "python",
   "pygments_lexer": "ipython3",
   "version": "3.10.10"
  },
  "orig_nbformat": 4
 },
 "nbformat": 4,
 "nbformat_minor": 2
}
