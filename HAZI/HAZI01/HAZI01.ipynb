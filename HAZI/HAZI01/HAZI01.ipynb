{
 "cells": [
  {
   "cell_type": "code",
   "execution_count": 93,
   "metadata": {},
   "outputs": [],
   "source": [
    "#Create a function that returns with a subsest of a list.\n",
    "#The subset's starting and ending indexes should be set as input parameters (the list aswell).\n",
    "#return type: list\n",
    "#function name must be: subset\n",
    "#input parameters: input_list,start_index,end_index"
   ]
  },
  {
   "cell_type": "code",
   "execution_count": 94,
   "metadata": {},
   "outputs": [],
   "source": [
    "def subset(input_list,start_index,end_index):\n",
    "    return input_list[start_index:end_index]"
   ]
  },
  {
   "cell_type": "code",
   "execution_count": 95,
   "metadata": {},
   "outputs": [],
   "source": [
    "#print(subset([1,2,3,4,5,6,7,8,9],3,6))\n",
    "#print(subset([],3,6))"
   ]
  },
  {
   "cell_type": "code",
   "execution_count": 96,
   "metadata": {},
   "outputs": [],
   "source": [
    "#Create a function that returns every nth element of a list.\n",
    "#return type: list\n",
    "#function name must be: every_nth\n",
    "#input parameters: input_list,step_size"
   ]
  },
  {
   "cell_type": "code",
   "execution_count": 97,
   "metadata": {},
   "outputs": [],
   "source": [
    "def every_nth(input_list,step_size):\n",
    "    tmpList = []\n",
    "    for i in range(0,len(input_list),step_size):\n",
    "        tmpList.append(input_list[i])\n",
    "    return tmpList"
   ]
  },
  {
   "cell_type": "code",
   "execution_count": 98,
   "metadata": {},
   "outputs": [],
   "source": [
    "#print(every_nth([1,2,3,4,5,6,7,8,9],2))\n",
    "#print(every_nth([],10))"
   ]
  },
  {
   "cell_type": "code",
   "execution_count": 99,
   "metadata": {},
   "outputs": [],
   "source": [
    "#Create a function that can decide whether a list contains unique values or not\n",
    "#return type: bool\n",
    "#function name must be: unique\n",
    "#input parameters: input_list"
   ]
  },
  {
   "cell_type": "code",
   "execution_count": 100,
   "metadata": {},
   "outputs": [],
   "source": [
    "def unique(input_list):\n",
    "    isUnique = False\n",
    "    for i in input_list:\n",
    "        if input_list.count(i) < 2:\n",
    "            isUnique = True\n",
    "        else:\n",
    "            isUnique = False\n",
    "    return isUnique"
   ]
  },
  {
   "cell_type": "code",
   "execution_count": 101,
   "metadata": {},
   "outputs": [],
   "source": [
    "#print(unique([1,1,1]))\n",
    "#print(unique([1,1,2]))\n",
    "#print(unique([]))\n"
   ]
  },
  {
   "cell_type": "code",
   "execution_count": 102,
   "metadata": {},
   "outputs": [],
   "source": [
    "#Create a function that can flatten a nested list ([[..],[..],..])\n",
    "#return type: list\n",
    "#fucntion name must be: flatten\n",
    "#input parameters: input_list"
   ]
  },
  {
   "cell_type": "code",
   "execution_count": 103,
   "metadata": {},
   "outputs": [],
   "source": [
    "def flatten(input_list):\n",
    "    tmpList = []\n",
    "\n",
    "    for item in input_list:\n",
    "        for value in item:\n",
    "            tmpList.append(value)\n",
    "    return tmpList"
   ]
  },
  {
   "cell_type": "code",
   "execution_count": 104,
   "metadata": {},
   "outputs": [],
   "source": [
    "#print(flatten([[1,2,3,4],[5,6,7,8]]))\n",
    "#print(flatten([[]]))"
   ]
  },
  {
   "cell_type": "code",
   "execution_count": 105,
   "metadata": {},
   "outputs": [],
   "source": [
    "#Create a function that concatenates n lists\n",
    "#return type: list\n",
    "#function name must be: merge_lists\n",
    "#input parameters: *args\n"
   ]
  },
  {
   "cell_type": "code",
   "execution_count": 106,
   "metadata": {},
   "outputs": [],
   "source": [
    "def merge_lists(*args):\n",
    "    tmpList = []\n",
    "    for arg in args:\n",
    "        tmpList+=arg\n",
    "    return tmpList"
   ]
  },
  {
   "cell_type": "code",
   "execution_count": 107,
   "metadata": {},
   "outputs": [],
   "source": [
    "#print(merge_lists([1,2,3,4], [5,6,7,8]))\n",
    "#print(merge_lists([],[]))"
   ]
  },
  {
   "cell_type": "code",
   "execution_count": 108,
   "metadata": {},
   "outputs": [],
   "source": [
    "#Create a function that can reverse a list of tuples\n",
    "#example [(1,2),...] => [(2,1),...]\n",
    "#return type: list\n",
    "#fucntion name must be: reverse_tuples\n",
    "#input parameters: input_list"
   ]
  },
  {
   "cell_type": "code",
   "execution_count": 109,
   "metadata": {},
   "outputs": [],
   "source": [
    "def reverse_tuples(input_list):\n",
    "    tmpList = []\n",
    "    for i in input_list:\n",
    "        tmpList.append((i[1], i[0]))\n",
    "    return tmpList"
   ]
  },
  {
   "cell_type": "code",
   "execution_count": 110,
   "metadata": {},
   "outputs": [],
   "source": [
    "#print([(0,1),(1,2),(2,3),(3,4),(4,5),(5,6)])\n",
    "#print(reverse_tuples([(0,1),(1,2),(2,3),(3,4),(4,5),(5,6)]))"
   ]
  },
  {
   "cell_type": "code",
   "execution_count": 111,
   "metadata": {},
   "outputs": [],
   "source": [
    "#Create a function that removes duplicates from a list\n",
    "#return type: list\n",
    "#fucntion name must be: remove_tuplicates\n",
    "#input parameters: input_list"
   ]
  },
  {
   "cell_type": "code",
   "execution_count": 112,
   "metadata": {},
   "outputs": [],
   "source": [
    "def remove_duplicates(input_list):\n",
    "    tmpList = []\n",
    "    for i in input_list:\n",
    "        if i not in tmpList:\n",
    "            tmpList.append(i)\n",
    "    return tmpList"
   ]
  },
  {
   "cell_type": "code",
   "execution_count": 113,
   "metadata": {},
   "outputs": [],
   "source": [
    "#print(remove_duplicates([1,1,1,2,2,2,3,3,3,4,4,4]))\n",
    "#print(remove_duplicates([0]))"
   ]
  },
  {
   "cell_type": "code",
   "execution_count": 114,
   "metadata": {},
   "outputs": [],
   "source": [
    "#Create a function that transposes a nested list (matrix)\n",
    "#return type: list\n",
    "#function name must be: transpose\n",
    "#input parameters: input_list"
   ]
  },
  {
   "cell_type": "code",
   "execution_count": 115,
   "metadata": {},
   "outputs": [],
   "source": [
    "def transpose(input_list):\n",
    "    transposed = []\n",
    "    if len(input_list) > 1:\n",
    "        for i in range(len(input_list[1])):\n",
    "            tmpList = []\n",
    "            for j in range(len(input_list[0])):\n",
    "                tmpList.append(input_list[j][i])\n",
    "            transposed.append(tmpList)    \n",
    "    return transposed"
   ]
  },
  {
   "cell_type": "code",
   "execution_count": 116,
   "metadata": {},
   "outputs": [],
   "source": [
    "#print(transpose([[1,2,3],[4,5,6],[7,8,9]]))\n",
    "#print(transpose([[]]))"
   ]
  },
  {
   "cell_type": "code",
   "execution_count": 117,
   "metadata": {},
   "outputs": [],
   "source": [
    "#Create a function that can split a nested list into chunks\n",
    "#chunk size is given by parameter\n",
    "#return type: list\n",
    "#function name must be: split_into_chunks\n",
    "#input parameters: input_list,chunk_size"
   ]
  },
  {
   "cell_type": "code",
   "execution_count": 118,
   "metadata": {},
   "outputs": [],
   "source": [
    "def split_into_chunks(input_list,chunk_size):\n",
    "    retList = []\n",
    "    tmp = []\n",
    "    counter = 0\n",
    "\n",
    "    for i in input_list:\n",
    "        for j in i:\n",
    "            tmp.append(j)\n",
    "            counter += 1\n",
    "            if counter == chunk_size:\n",
    "                retList.append(tmp)\n",
    "                counter = 0\n",
    "                tmp = []\n",
    "\n",
    "    retList.append(tmp)\n",
    "\n",
    "    return retList"
   ]
  },
  {
   "cell_type": "code",
   "execution_count": 119,
   "metadata": {},
   "outputs": [
    {
     "name": "stdout",
     "output_type": "stream",
     "text": [
      "[[1, 2], [3, 4], [5, 6], [7, 8], [9]]\n"
     ]
    }
   ],
   "source": [
    "#print(split_into_chunks([[1,2,3],[4,5,6],[7,8,9]], 2))"
   ]
  },
  {
   "cell_type": "code",
   "execution_count": 120,
   "metadata": {},
   "outputs": [],
   "source": [
    "#Create a function that can merge n dictionaries\n",
    "#return type: dictionary\n",
    "#function name must be: merge_dicts\n",
    "#input parameters: *dict"
   ]
  },
  {
   "cell_type": "code",
   "execution_count": 121,
   "metadata": {},
   "outputs": [],
   "source": [
    "def merge_dicts(*dict):\n",
    "    merged_dict={}\n",
    "    for item in dict:\n",
    "        merged_dict=merged_dict | item\n",
    "    return merged_dict"
   ]
  },
  {
   "cell_type": "code",
   "execution_count": 122,
   "metadata": {},
   "outputs": [],
   "source": [
    "#person1 = {\n",
    "#    \"name\": \"John\",\n",
    "#    \"age\": 20\n",
    "#}\n",
    "#person2 = {\n",
    "#    \"address\": \"123 Main Street\",  \n",
    "#}\n",
    "#print(merge_dicts(person1, person2))\n"
   ]
  },
  {
   "cell_type": "code",
   "execution_count": 123,
   "metadata": {},
   "outputs": [],
   "source": [
    "#Create a function that receives a list of integers and sort them by parity\n",
    "#and returns with a dictionary like this: {\"even\":[...],\"odd\":[...]}\n",
    "#return type: dict\n",
    "#function name must be: by_parity\n",
    "#input parameters: input_list"
   ]
  },
  {
   "cell_type": "code",
   "execution_count": 124,
   "metadata": {},
   "outputs": [],
   "source": [
    "def by_parity(input_list):\n",
    "    parityDict = {\n",
    "        'even':[],\n",
    "        'odd':[]\n",
    "    }\n",
    "\n",
    "    for i in input_list:\n",
    "        if i%2==0:\n",
    "            parityDict['even']+=[i]\n",
    "        else:\n",
    "            parityDict['odd']+=[i]\n",
    "\n",
    "    return parityDict"
   ]
  },
  {
   "cell_type": "code",
   "execution_count": 125,
   "metadata": {},
   "outputs": [],
   "source": [
    "#print(by_parity([1,2,3,4,5,6]))"
   ]
  },
  {
   "cell_type": "code",
   "execution_count": 126,
   "metadata": {},
   "outputs": [],
   "source": [
    "#Create a function that receives a dictionary like this: {\"some_key\":[1,2,3,4],\"another_key\":[1,2,3,4],....}\n",
    "#and return a dictionary like this : {\"some_key\":mean_of_values,\"another_key\":mean_of_values,....}\n",
    "#in short calculates the mean of the values key wise\n",
    "#return type: dict\n",
    "#function name must be: mean_key_value\n",
    "#input parameters: input_dict"
   ]
  },
  {
   "cell_type": "code",
   "execution_count": 127,
   "metadata": {},
   "outputs": [],
   "source": [
    "def mean_key_value(input_dict):\n",
    "    for key in input_dict.keys():\n",
    "        print(key)\n",
    "        sum = 0\n",
    "        count = 0\n",
    "        for value in input_dict[key]:\n",
    "            sum += value\n",
    "            count += 1\n",
    "        input_dict[key] = sum/count\n",
    "\n",
    "    return input_dict"
   ]
  },
  {
   "cell_type": "code",
   "execution_count": 128,
   "metadata": {},
   "outputs": [],
   "source": [
    "#mean_key_value({\n",
    "#    \"even\" : [2,4,6,8],\n",
    "#    \"odd\" : [1,3,5,7]\n",
    "#})"
   ]
  },
  {
   "cell_type": "code",
   "execution_count": 129,
   "metadata": {},
   "outputs": [],
   "source": [
    "#If all the functions are created convert this notebook into a .py file and push to your repo"
   ]
  }
 ],
 "metadata": {
  "kernelspec": {
   "display_name": "Python 3",
   "language": "python",
   "name": "python3"
  },
  "language_info": {
   "codemirror_mode": {
    "name": "ipython",
    "version": 3
   },
   "file_extension": ".py",
   "mimetype": "text/x-python",
   "name": "python",
   "nbconvert_exporter": "python",
   "pygments_lexer": "ipython3",
   "version": "3.10.10"
  },
  "orig_nbformat": 4,
  "vscode": {
   "interpreter": {
    "hash": "916dbcbb3f70747c44a77c7bcd40155683ae19c65e1c03b4aa3499c5328201f1"
   }
  }
 },
 "nbformat": 4,
 "nbformat_minor": 2
}
