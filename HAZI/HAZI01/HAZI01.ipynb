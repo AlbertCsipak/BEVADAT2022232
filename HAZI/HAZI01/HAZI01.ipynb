{
 "cells": [
  {
   "cell_type": "code",
   "execution_count": 2700,
   "metadata": {},
   "outputs": [],
   "source": [
    "#Create a function that returns with a subsest of a list.\n",
    "#The subset's starting and ending indexes should be set as input parameters (the list aswell).\n",
    "#return type: list\n",
    "#function name must be: subset\n",
    "#input parameters: input_list,start_index,end_index"
   ]
  },
  {
   "cell_type": "code",
   "execution_count": 2701,
   "metadata": {},
   "outputs": [],
   "source": [
    "evenList = [2,4,6,8]\n",
    "oddList = [1,3,5,7]\n",
    "mixedList = [1,2,3,4,5,6,7,8,9]\n",
    "notUniqueList = [1,1,2,2,3,3]\n"
   ]
  },
  {
   "cell_type": "code",
   "execution_count": 2702,
   "metadata": {},
   "outputs": [],
   "source": [
    "def subset (input_list,start_index,end_index):\n",
    "    tmpList = []\n",
    "    for i in range(start_index,end_index,1):\n",
    "        tmpList.append(input_list[i])\n",
    "    return tmpList"
   ]
  },
  {
   "cell_type": "code",
   "execution_count": 2703,
   "metadata": {},
   "outputs": [
    {
     "name": "stdout",
     "output_type": "stream",
     "text": [
      "[4, 5, 6]\n"
     ]
    }
   ],
   "source": [
    "print(subset(mixedList,3,6))"
   ]
  },
  {
   "cell_type": "code",
   "execution_count": 2704,
   "metadata": {},
   "outputs": [],
   "source": [
    "#Create a function that returns every nth element of a list.\n",
    "#return type: list\n",
    "#function name must be: every_nth\n",
    "#input parameters: input_list,step_size"
   ]
  },
  {
   "cell_type": "code",
   "execution_count": 2705,
   "metadata": {},
   "outputs": [],
   "source": [
    "def every_nth(input_list,step_size):\n",
    "    tmpList = []\n",
    "    for i in range(0,len(input_list),step_size):\n",
    "        tmpList.append(input_list[i])\n",
    "    return tmpList"
   ]
  },
  {
   "cell_type": "code",
   "execution_count": 2706,
   "metadata": {},
   "outputs": [
    {
     "name": "stdout",
     "output_type": "stream",
     "text": [
      "[1, 3, 5, 7, 9]\n"
     ]
    }
   ],
   "source": [
    "print(every_nth(mixedList,2))"
   ]
  },
  {
   "cell_type": "code",
   "execution_count": 2707,
   "metadata": {},
   "outputs": [],
   "source": [
    "#Create a function that can decide whether a list contains unique values or not\n",
    "#return type: bool\n",
    "#function name must be: unique\n",
    "#input parameters: input_list"
   ]
  },
  {
   "cell_type": "code",
   "execution_count": 2708,
   "metadata": {},
   "outputs": [],
   "source": [
    "def unique(input_list):\n",
    "    isUnique = False\n",
    "    for i in input_list:\n",
    "        if input_list.count(i) < 2:\n",
    "            return True\n",
    "    return isUnique"
   ]
  },
  {
   "cell_type": "code",
   "execution_count": 2709,
   "metadata": {},
   "outputs": [
    {
     "name": "stdout",
     "output_type": "stream",
     "text": [
      "False\n",
      "True\n"
     ]
    }
   ],
   "source": [
    "print(unique(notUniqueList))\n",
    "print(unique(mixedList))"
   ]
  },
  {
   "cell_type": "code",
   "execution_count": 2710,
   "metadata": {},
   "outputs": [],
   "source": [
    "#Create a function that can flatten a nested list ([[..],[..],..])\n",
    "#return type: list\n",
    "#fucntion name must be: flatten\n",
    "#input parameters: input_list"
   ]
  },
  {
   "cell_type": "code",
   "execution_count": 2711,
   "metadata": {},
   "outputs": [],
   "source": [
    "nestedList = [[1,1],[2,2],[3,3],[4,4],[5,5],[6,6]]"
   ]
  },
  {
   "cell_type": "code",
   "execution_count": 2712,
   "metadata": {},
   "outputs": [],
   "source": [
    "def flatten(input_list):\n",
    "    tmpList = []\n",
    "\n",
    "    for i in input_list:\n",
    "        tmpList.append(i[0])\n",
    "        tmpList.append(i[1]) \n",
    "    return tmpList"
   ]
  },
  {
   "cell_type": "code",
   "execution_count": 2713,
   "metadata": {},
   "outputs": [
    {
     "name": "stdout",
     "output_type": "stream",
     "text": [
      "[[1, 1], [2, 2], [3, 3], [4, 4], [5, 5], [6, 6]]\n",
      "[1, 1, 2, 2, 3, 3, 4, 4, 5, 5, 6, 6]\n"
     ]
    }
   ],
   "source": [
    "print(nestedList)\n",
    "print(flatten(nestedList))"
   ]
  },
  {
   "cell_type": "code",
   "execution_count": 2714,
   "metadata": {},
   "outputs": [],
   "source": [
    "#Create a function that concatenates n lists\n",
    "#return type: list\n",
    "#function name must be: merge_lists\n",
    "#input parameters: *args\n"
   ]
  },
  {
   "cell_type": "code",
   "execution_count": 2715,
   "metadata": {},
   "outputs": [],
   "source": [
    "def merge_lists(*args):\n",
    "    tmpList = []\n",
    "    for arg in args:\n",
    "        tmpList.append(arg)\n",
    "    return tmpList"
   ]
  },
  {
   "cell_type": "code",
   "execution_count": 2716,
   "metadata": {},
   "outputs": [
    {
     "name": "stdout",
     "output_type": "stream",
     "text": [
      "[[2, 4, 6, 8], [1, 3, 5, 7], [1, 2, 3, 4, 5, 6, 7, 8, 9]]\n"
     ]
    }
   ],
   "source": [
    "print(merge_lists(evenList, oddList,mixedList))"
   ]
  },
  {
   "cell_type": "code",
   "execution_count": 2717,
   "metadata": {},
   "outputs": [],
   "source": [
    "#Create a function that can reverse a list of tuples\n",
    "#example [(1,2),...] => [(2,1),...]\n",
    "#return type: list\n",
    "#fucntion name must be: reverse_tuples\n",
    "#input parameters: input_list"
   ]
  },
  {
   "cell_type": "code",
   "execution_count": 2718,
   "metadata": {},
   "outputs": [],
   "source": [
    "tuplesList = []\n",
    "for i in range(10):\n",
    "   tuplesList.append((i,i+1))"
   ]
  },
  {
   "cell_type": "code",
   "execution_count": 2719,
   "metadata": {},
   "outputs": [],
   "source": [
    "def reverse_tuples(input_list):\n",
    "    tmpList = []\n",
    "    for i in input_list:\n",
    "        tmpList.append((i[1], i[0]))\n",
    "    return tmpList"
   ]
  },
  {
   "cell_type": "code",
   "execution_count": 2720,
   "metadata": {},
   "outputs": [
    {
     "name": "stdout",
     "output_type": "stream",
     "text": [
      "[(0, 1), (1, 2), (2, 3), (3, 4), (4, 5), (5, 6), (6, 7), (7, 8), (8, 9), (9, 10)]\n",
      "[(1, 0), (2, 1), (3, 2), (4, 3), (5, 4), (6, 5), (7, 6), (8, 7), (9, 8), (10, 9)]\n"
     ]
    }
   ],
   "source": [
    "print(tuplesList)\n",
    "print(reverse_tuples(tuplesList))"
   ]
  },
  {
   "cell_type": "code",
   "execution_count": 2721,
   "metadata": {},
   "outputs": [],
   "source": [
    "#Create a function that removes duplicates from a list\n",
    "#return type: list\n",
    "#fucntion name must be: remove_tuplicates\n",
    "#input parameters: input_list"
   ]
  },
  {
   "cell_type": "code",
   "execution_count": 2722,
   "metadata": {},
   "outputs": [],
   "source": [
    "duplicateList = [1,1,2,2,3,3,4,4,5,5]"
   ]
  },
  {
   "cell_type": "code",
   "execution_count": 2723,
   "metadata": {},
   "outputs": [],
   "source": [
    "def remove_duplicates(input_list):\n",
    "    tmpList = []\n",
    "    for i in input_list:\n",
    "        #if tmpList.count(i) == 0:\n",
    "        #    tmpList.append(i)\n",
    "        if i not in tmpList:\n",
    "            tmpList.append(i)\n",
    "    return tmpList"
   ]
  },
  {
   "cell_type": "code",
   "execution_count": 2724,
   "metadata": {},
   "outputs": [
    {
     "name": "stdout",
     "output_type": "stream",
     "text": [
      "[1, 1, 2, 2, 3, 3, 4, 4, 5, 5]\n",
      "[1, 2, 3, 4, 5]\n"
     ]
    }
   ],
   "source": [
    "print(duplicateList)\n",
    "print(remove_duplicates(duplicateList))"
   ]
  },
  {
   "cell_type": "code",
   "execution_count": 2725,
   "metadata": {},
   "outputs": [],
   "source": [
    "#Create a function that transposes a nested list (matrix)\n",
    "#return type: list\n",
    "#function name must be: transpose\n",
    "#input parameters: input_list"
   ]
  },
  {
   "cell_type": "code",
   "execution_count": 2726,
   "metadata": {},
   "outputs": [],
   "source": [
    "matrix = [[1,2,3],\n",
    "          [4,5,6],\n",
    "          [7,8,9]]"
   ]
  },
  {
   "cell_type": "code",
   "execution_count": 2727,
   "metadata": {},
   "outputs": [],
   "source": [
    "def transpose(input_list):\n",
    "    transposed = [[0,0,0], [0,0,0], [0,0,0]]\n",
    "\n",
    "    for i in range(len(input_list)):\n",
    "        for j in range(len(input_list[0])):\n",
    "            transposed[j][i] = input_list[i][j]\n",
    "\n",
    "    return transposed"
   ]
  },
  {
   "cell_type": "code",
   "execution_count": 2728,
   "metadata": {},
   "outputs": [
    {
     "name": "stdout",
     "output_type": "stream",
     "text": [
      "[[1, 4, 7], [2, 5, 8], [3, 6, 9]]\n"
     ]
    }
   ],
   "source": [
    "print(transpose(matrix))"
   ]
  },
  {
   "cell_type": "code",
   "execution_count": 2729,
   "metadata": {},
   "outputs": [],
   "source": [
    "#Create a function that can split a nested list into chunks\n",
    "#chunk size is given by parameter\n",
    "#return type: list\n",
    "#function name must be: split_into_chunks\n",
    "#input parameters: input_list,chunk_size"
   ]
  },
  {
   "cell_type": "code",
   "execution_count": 2730,
   "metadata": {},
   "outputs": [],
   "source": [
    "def split_into_chunks(input_list,chunk_size):\n",
    "    return \"nem igazán értem, hogy mi az elképzelés\""
   ]
  },
  {
   "cell_type": "code",
   "execution_count": 2731,
   "metadata": {},
   "outputs": [
    {
     "name": "stdout",
     "output_type": "stream",
     "text": [
      "nem igazán értem, hogy mi az elképzelés\n"
     ]
    }
   ],
   "source": [
    "print(split_into_chunks(nestedList, 10))"
   ]
  },
  {
   "cell_type": "code",
   "execution_count": 2732,
   "metadata": {},
   "outputs": [],
   "source": [
    "#Create a function that can merge n dictionaries\n",
    "#return type: dictionary\n",
    "#function name must be: merge_dicts\n",
    "#input parameters: *dict"
   ]
  },
  {
   "cell_type": "code",
   "execution_count": 2733,
   "metadata": {},
   "outputs": [],
   "source": [
    "person1 = {\n",
    "    \"name\": \"John\",\n",
    "    \"age\": 20\n",
    "}\n",
    "person2 = {\n",
    "    \"name\": \"Jane\",\n",
    "    \"age\": 21\n",
    "}"
   ]
  },
  {
   "cell_type": "code",
   "execution_count": 2734,
   "metadata": {},
   "outputs": [],
   "source": [
    "def merge_dicts(*dict):\n",
    "    for i in range(len(dict)-1):\n",
    "        dict[i] | dict[i+1]\n",
    "\n",
    "    return dict"
   ]
  },
  {
   "cell_type": "code",
   "execution_count": 2735,
   "metadata": {},
   "outputs": [
    {
     "ename": "IndexError",
     "evalue": "tuple index out of range",
     "output_type": "error",
     "traceback": [
      "\u001b[1;31m---------------------------------------------------------------------------\u001b[0m",
      "\u001b[1;31mIndexError\u001b[0m                                Traceback (most recent call last)",
      "Cell \u001b[1;32mIn[2735], line 1\u001b[0m\n\u001b[1;32m----> 1\u001b[0m \u001b[39mprint\u001b[39m(merge_dicts(person1,person2))\n",
      "Cell \u001b[1;32mIn[2734], line 3\u001b[0m, in \u001b[0;36mmerge_dicts\u001b[1;34m(*dict)\u001b[0m\n\u001b[0;32m      1\u001b[0m \u001b[39mdef\u001b[39;00m \u001b[39mmerge_dicts\u001b[39m(\u001b[39m*\u001b[39m\u001b[39mdict\u001b[39m):\n\u001b[0;32m      2\u001b[0m     \u001b[39mfor\u001b[39;00m i \u001b[39min\u001b[39;00m \u001b[39mrange\u001b[39m(\u001b[39mlen\u001b[39m(\u001b[39mdict\u001b[39m)):\n\u001b[1;32m----> 3\u001b[0m         \u001b[39mdict\u001b[39m[i] \u001b[39m|\u001b[39m \u001b[39mdict\u001b[39;49m[i\u001b[39m+\u001b[39;49m\u001b[39m1\u001b[39;49m]\n\u001b[0;32m      5\u001b[0m     \u001b[39mreturn\u001b[39;00m \u001b[39mdict\u001b[39m\n",
      "\u001b[1;31mIndexError\u001b[0m: tuple index out of range"
     ]
    }
   ],
   "source": [
    "print(merge_dicts(person1,person2))"
   ]
  },
  {
   "cell_type": "code",
   "execution_count": null,
   "metadata": {},
   "outputs": [],
   "source": [
    "#Create a function that receives a list of integers and sort them by parity\n",
    "#and returns with a dictionary like this: {\"even\":[...],\"odd\":[...]}\n",
    "#return type: dict\n",
    "#function name must be: by_parity\n",
    "#input parameters: input_list"
   ]
  },
  {
   "cell_type": "code",
   "execution_count": null,
   "metadata": {},
   "outputs": [],
   "source": []
  },
  {
   "cell_type": "code",
   "execution_count": null,
   "metadata": {},
   "outputs": [],
   "source": []
  },
  {
   "cell_type": "code",
   "execution_count": null,
   "metadata": {},
   "outputs": [],
   "source": [
    "#Create a function that receives a dictionary like this: {\"some_key\":[1,2,3,4],\"another_key\":[1,2,3,4],....}\n",
    "#and return a dictionary like this : {\"some_key\":mean_of_values,\"another_key\":mean_of_values,....}\n",
    "#in short calculates the mean of the values key wise\n",
    "#return type: dict\n",
    "#function name must be: mean_key_value\n",
    "#input parameters: input_dict"
   ]
  },
  {
   "cell_type": "code",
   "execution_count": null,
   "metadata": {},
   "outputs": [],
   "source": []
  },
  {
   "cell_type": "code",
   "execution_count": null,
   "metadata": {},
   "outputs": [],
   "source": []
  },
  {
   "cell_type": "code",
   "execution_count": null,
   "metadata": {},
   "outputs": [],
   "source": [
    "#If all the functions are created convert this notebook into a .py file and push to your repo"
   ]
  }
 ],
 "metadata": {
  "kernelspec": {
   "display_name": "Python 3",
   "language": "python",
   "name": "python3"
  },
  "language_info": {
   "codemirror_mode": {
    "name": "ipython",
    "version": 3
   },
   "file_extension": ".py",
   "mimetype": "text/x-python",
   "name": "python",
   "nbconvert_exporter": "python",
   "pygments_lexer": "ipython3",
   "version": "3.10.10"
  },
  "orig_nbformat": 4,
  "vscode": {
   "interpreter": {
    "hash": "916dbcbb3f70747c44a77c7bcd40155683ae19c65e1c03b4aa3499c5328201f1"
   }
  }
 },
 "nbformat": 4,
 "nbformat_minor": 2
}
