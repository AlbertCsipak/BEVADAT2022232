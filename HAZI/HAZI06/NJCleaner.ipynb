{
 "cells": [
  {
   "cell_type": "code",
   "execution_count": 18,
   "metadata": {},
   "outputs": [
    {
     "data": {
      "text/plain": [
       "\"\\n2. Írj egy osztályt a következő feladatokra:  \\n2.1 Neve legyen NJCleaner és mentsd el a NJCleaner.py-ba. Ebben a fájlban csak ez az osztály legyen.\\n2.2 Konsturktorban kapja meg a csv elérési útvonalát és olvassa be pandas segítségével és mentsük el a data (self.data) osztályszintű változóba \\n2.3 Írj egy függvényt ami sorbarendezi a dataframe-et 'scheduled_time' szerint növekvőbe és visszatér a sorbarendezett df-el, a függvény neve legyen 'order_by_scheduled_time' és térjen vissza a df-el  \\n2.4 Dobjuk el a from és a to oszlopokat, illetve azokat a sorokat ahol van nan és adjuk vissza a df-et. A függvény neve legyen 'drop_columns_and_nan' és térjen vissza a df-el  \\n2.5 A date-et alakítsd át napokra, pl.: 2018-03-01 --> Thursday, ennek az oszlopnak legyen neve a 'day'. Ezután dobd el a 'date' oszlopot és térjen vissza a df-el. A függvény neve legyen 'convert_date_to_day' és térjen vissza a df-el   \\n2.6 Hozz létre egy új oszlopot 'part_of_the_day' névvel. A 'scheduled_time' oszlopból számítsd ki az alábbi értékeit. A 'scheduled_time'-ot dobd el. A függvény neve legyen 'convert_scheduled_time_to_part_of_the_day' és térjen vissza a df-el  \\n    4:00-7:59 -- early_morning  \\n    8:00-11:59 -- morning  \\n    12:00-15:59 -- afternoon  \\n    16:00-19:59 -- evening  \\n    20:00-23:59 -- night  \\n    0:00-3:59 -- late_night  \\n2.7 A késéseket jelöld az alábbiak szerint. Az új osztlop neve legyen 'delay'. A függvény neve legyen pedig 'convert_delay' és térjen vissza a df-el\\n        0min <= x < 5min   --> 0  \\n        5min <= x          --> 1  \\n2.8 Dobd el a felesleges oszlopokat 'train_id' 'actual_time' 'delay_minutes'. A függvény neve legyen 'drop_unnecessary_columns' és térjen vissza a df-el\\n2.9 Írj egy olyan metódust, ami elmenti a dataframe első 60 000 sorát. A függvénynek egy string paramétere legyen, az pedig az, hogy hova mentse el a csv-t (pl.: 'data/NJ.csv'). A függvény neve legyen 'save_first_60k'. \\n2.10 Írj egy függvényt ami a fenti függvényeket összefogja és megvalósítja (sorbarendezés --> drop_columns_and_nan --> ... --> save_first_60k), a függvény neve legyen 'prep_df'. Egy paramnétert várjon, az pedig a csv-nek a mentési útvonala legyen. Ha default value-ja legyen 'data/NJ.csv'\\n\""
      ]
     },
     "execution_count": 18,
     "metadata": {},
     "output_type": "execute_result"
    }
   ],
   "source": [
    "\"\"\"\n",
    "2. Írj egy osztályt a következő feladatokra:  \n",
    "2.1 Neve legyen NJCleaner és mentsd el a NJCleaner.py-ba. Ebben a fájlban csak ez az osztály legyen.\n",
    "2.2 Konsturktorban kapja meg a csv elérési útvonalát és olvassa be pandas segítségével és mentsük el a data (self.data) osztályszintű változóba \n",
    "2.3 Írj egy függvényt ami sorbarendezi a dataframe-et 'scheduled_time' szerint növekvőbe és visszatér a sorbarendezett df-el, a függvény neve legyen 'order_by_scheduled_time' és térjen vissza a df-el  \n",
    "2.4 Dobjuk el a from és a to oszlopokat, illetve azokat a sorokat ahol van nan és adjuk vissza a df-et. A függvény neve legyen 'drop_columns_and_nan' és térjen vissza a df-el  \n",
    "2.5 A date-et alakítsd át napokra, pl.: 2018-03-01 --> Thursday, ennek az oszlopnak legyen neve a 'day'. Ezután dobd el a 'date' oszlopot és térjen vissza a df-el. A függvény neve legyen 'convert_date_to_day' és térjen vissza a df-el   \n",
    "2.6 Hozz létre egy új oszlopot 'part_of_the_day' névvel. A 'scheduled_time' oszlopból számítsd ki az alábbi értékeit. A 'scheduled_time'-ot dobd el. A függvény neve legyen 'convert_scheduled_time_to_part_of_the_day' és térjen vissza a df-el  \n",
    "    4:00-7:59 -- early_morning  \n",
    "    8:00-11:59 -- morning  \n",
    "    12:00-15:59 -- afternoon  \n",
    "    16:00-19:59 -- evening  \n",
    "    20:00-23:59 -- night  \n",
    "    0:00-3:59 -- late_night  \n",
    "2.7 A késéseket jelöld az alábbiak szerint. Az új osztlop neve legyen 'delay'. A függvény neve legyen pedig 'convert_delay' és térjen vissza a df-el\n",
    "        0min <= x < 5min   --> 0  \n",
    "        5min <= x          --> 1  \n",
    "2.8 Dobd el a felesleges oszlopokat 'train_id' 'actual_time' 'delay_minutes'. A függvény neve legyen 'drop_unnecessary_columns' és térjen vissza a df-el\n",
    "2.9 Írj egy olyan metódust, ami elmenti a dataframe első 60 000 sorát. A függvénynek egy string paramétere legyen, az pedig az, hogy hova mentse el a csv-t (pl.: 'data/NJ.csv'). A függvény neve legyen 'save_first_60k'. \n",
    "2.10 Írj egy függvényt ami a fenti függvényeket összefogja és megvalósítja (sorbarendezés --> drop_columns_and_nan --> ... --> save_first_60k), a függvény neve legyen 'prep_df'. Egy paramnétert várjon, az pedig a csv-nek a mentési útvonala legyen. Ha default value-ja legyen 'data/NJ.csv'\n",
    "\"\"\""
   ]
  },
  {
   "cell_type": "code",
   "execution_count": 19,
   "metadata": {},
   "outputs": [],
   "source": [
    "import pandas as pd\n"
   ]
  },
  {
   "cell_type": "code",
   "execution_count": 20,
   "metadata": {},
   "outputs": [],
   "source": [
    "class NJCleaner:\n",
    "\n",
    "    def __init__(self,path):\n",
    "        self.data = pd.read_csv(path)\n",
    "\n",
    "    def order_by_scheduled_time(self):\n",
    "        self.data = self.data.sort_values(by=['scheduled_time'])\n",
    "        return self.data\n",
    "    \n",
    "    def drop_columns_and_nan(self):\n",
    "        self.data = self.data.drop(['from', 'to'], axis=1)\n",
    "        self.data = self.data.dropna()\n",
    "        return self.data\n",
    "    \n",
    "    def convert_date_to_day(self):\n",
    "        self.data['date'] = pd.to_datetime(self.data['date'])\n",
    "        self.data['day'] = self.data['date'].dt.day_name()\n",
    "        self.data = self.data.drop(['date'], axis=1)\n",
    "        return self.data\n",
    "    \n",
    "    def convert_scheduled_time_to_part_of_the_day(self):\n",
    "        df = pd.DatetimeIndex(self.data['scheduled_time']).hour\n",
    "        self.data['part_of_the_day'] = pd.cut(df, bins=[-1, 3, 7, 11, 15, 19, 24], labels=[ 'late_night', 'early_morning', 'morning', 'afternoon', 'evening', 'night']) \n",
    "        self.data.drop(columns=['scheduled_time'], inplace=True) \n",
    "        return self.data\n",
    "\n",
    "    def convert_delay(self):\n",
    "        max = self.data['delay_minutes'].astype('float').max()\n",
    "        self.data['delay'] = pd.cut(self.data['delay_minutes'].astype('float'), bins=[-1, 4.999, max], labels=[0, 1])\n",
    "        return self.data\n",
    "\n",
    "    \n",
    "    def drop_unnecessary_columns(self):\n",
    "        self.data.drop(['train_id', 'actual_time', 'delay_minutes'], axis=1, inplace=True)\n",
    "        return self.data\n",
    "    \n",
    "    def save_first_60k(self, path):\n",
    "        cutted_df = self.data.head(60000)\n",
    "        cutted_df.to_csv(path, index=False)\n",
    "\n",
    "    def prep_df(self, path='data/NJ.csv'):\n",
    "        self.order_by_scheduled_time()\n",
    "        self.drop_columns_and_nan()\n",
    "        self.convert_date_to_day()\n",
    "        self.convert_scheduled_time_to_part_of_the_day()\n",
    "        self.convert_delay()\n",
    "        self.drop_unnecessary_columns()\n",
    "        self.save_first_60k(path)\n",
    "    "
   ]
  },
  {
   "cell_type": "code",
   "execution_count": 21,
   "metadata": {},
   "outputs": [],
   "source": [
    "#nj = NJCleaner(\"data/2018_03.csv\")\n",
    "\n",
    "#nj.prep_df()"
   ]
  }
 ],
 "metadata": {
  "kernelspec": {
   "display_name": "Python 3",
   "language": "python",
   "name": "python3"
  },
  "language_info": {
   "codemirror_mode": {
    "name": "ipython",
    "version": 3
   },
   "file_extension": ".py",
   "mimetype": "text/x-python",
   "name": "python",
   "nbconvert_exporter": "python",
   "pygments_lexer": "ipython3",
   "version": "3.11.3"
  },
  "orig_nbformat": 4
 },
 "nbformat": 4,
 "nbformat_minor": 2
}
