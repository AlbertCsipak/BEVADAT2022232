{
 "cells": [
  {
   "cell_type": "code",
   "execution_count": 4,
   "metadata": {},
   "outputs": [
    {
     "name": "stdout",
     "output_type": "stream",
     "text": [
      "A modell pontossága: 1.0\n"
     ]
    },
    {
     "name": "stderr",
     "output_type": "stream",
     "text": [
      "C:\\Users\\Albi\\AppData\\Local\\Temp\\ipykernel_16348\\3511805698.py:31: FutureWarning: The default value of regex will change from True to False in a future version. In addition, single character regular expressions will *not* be treated as literal strings when regex=True.\n",
      "  df.columns = df.columns.str.replace('.', '_')\n"
     ]
    }
   ],
   "source": [
    "#minden fontos import és setting\n",
    "import numpy as np\n",
    "import matplotlib.pyplot as plt\n",
    "import pandas as pd\n",
    "\n",
    "from sklearn import tree\n",
    "from sklearn.tree import DecisionTreeClassifier\n",
    "from sklearn.linear_model import LinearRegression, LogisticRegression\n",
    "\n",
    "from sklearn.datasets import load_iris\n",
    "from sklearn.model_selection import train_test_split\n",
    "from sklearn.metrics import accuracy_score\n",
    "from sklearn.metrics import mean_squared_error\n",
    "\n",
    "np.random.seed(42)\n",
    "\n",
    "file_path = \".\\\\iris.csv\"\n",
    "\n",
    "#load methods\n",
    "\n",
    "#load from csv into df\n",
    "df = pd.read_csv(file_path)\n",
    "\n",
    "#load from dataset into df\n",
    "iris = load_iris()\n",
    "df2 = pd.DataFrame(iris.data, columns=iris.feature_names)\n",
    "\n",
    "#df columns\n",
    "\n",
    "#change column names\n",
    "df.columns = df.columns.str.replace('.', '_')\n",
    "\n",
    "#drop columns\n",
    "df = df.drop(columns=['sepal_width'])\n",
    "\n",
    "#add column\n",
    "age = np.random.randint(18, 99, size=len(df))    \n",
    "df['age']=age\n",
    "\n",
    "#every unqiue value in a column\n",
    "unique_values = df['variety'].unique()\n",
    "\n",
    "#df rows\n",
    "\n",
    "#drop nulls\n",
    "df = df.dropna()\n",
    "\n",
    "#first x row\n",
    "df.head(5)\n",
    "\n",
    "#model training\n",
    "\n",
    "#X alapján tanul\n",
    "X = df.drop(columns=['variety'])\n",
    "#y amire kategorizálni fog\n",
    "y = df['variety']\n",
    "\n",
    "#train test split\n",
    "X_train, X_test, y_train, y_test = train_test_split(X, y, test_size=0.3, random_state=42)\n",
    "\n",
    "#decision tree\n",
    "\n",
    "#create classifier\n",
    "clf = DecisionTreeClassifier()\n",
    "clf = clf.fit(X_train, y_train)\n",
    "\n",
    "#linear regression\n",
    "\n",
    "#create classifier\n",
    "clf = LinearRegression()\n",
    "clf = clf.fit(X_train,y_test)\n",
    "\n",
    "#logistic regression\n",
    "\n",
    "#create classifier\n",
    "clf = LogisticRegression()\n",
    "clf = clf.fit(X_train,y_test)\n",
    "\n",
    "#predict\n",
    "y_pred = clf.predict(X_test)\n",
    "print('A modell pontossága:', accuracy_score(y_test, y_pred))\n",
    "print('Mean Squared Error:', mean_squared_error(y_test, y_pred))\n"
   ]
  }
 ],
 "metadata": {
  "kernelspec": {
   "display_name": "Python 3",
   "language": "python",
   "name": "python3"
  },
  "language_info": {
   "codemirror_mode": {
    "name": "ipython",
    "version": 3
   },
   "file_extension": ".py",
   "mimetype": "text/x-python",
   "name": "python",
   "nbconvert_exporter": "python",
   "pygments_lexer": "ipython3",
   "version": "3.11.3"
  },
  "orig_nbformat": 4
 },
 "nbformat": 4,
 "nbformat_minor": 2
}
